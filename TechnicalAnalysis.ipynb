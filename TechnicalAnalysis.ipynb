{
  "nbformat": 4,
  "nbformat_minor": 0,
  "metadata": {
    "colab": {
      "provenance": [],
      "authorship_tag": "ABX9TyMe+fYx0nv4jpRkW29j8JhL",
      "include_colab_link": true
    },
    "kernelspec": {
      "name": "python3",
      "display_name": "Python 3"
    },
    "language_info": {
      "name": "python"
    }
  },
  "cells": [
    {
      "cell_type": "markdown",
      "metadata": {
        "id": "view-in-github",
        "colab_type": "text"
      },
      "source": [
        "<a href=\"https://colab.research.google.com/github/aabansal/TechnicalAnalysis/blob/main/TechnicalAnalysis.ipynb\" target=\"_parent\"><img src=\"https://colab.research.google.com/assets/colab-badge.svg\" alt=\"Open In Colab\"/></a>"
      ]
    },
    {
      "cell_type": "markdown",
      "source": [
        "This notebook is designed to figure out whether or not a computer can accurately predict 1-day movements in stock prices when fed technical analysis data as features."
      ],
      "metadata": {
        "id": "2TVr1SOy96ep"
      }
    },
    {
      "cell_type": "markdown",
      "source": [
        "# Step 1: Add features to Data\n",
        "Import libraries and add technical analysis features to the data"
      ],
      "metadata": {
        "id": "eExowHhq-c5_"
      }
    },
    {
      "cell_type": "code",
      "execution_count": 2,
      "metadata": {
        "colab": {
          "base_uri": "https://localhost:8080/"
        },
        "id": "Ss2bBiW793eK",
        "outputId": "f8c7322b-5266-4853-c6de-289990e42c39"
      },
      "outputs": [
        {
          "output_type": "stream",
          "name": "stdout",
          "text": [
            "Mounted at /content/drive\n"
          ]
        }
      ],
      "source": [
        "import numpy as np\n",
        "import pandas as pd\n",
        "import matplotlib as plt\n",
        "\n",
        "from google.colab import drive\n",
        "drive.mount('/content/drive')"
      ]
    },
    {
      "cell_type": "code",
      "source": [
        "df = pd.read_csv(\"/content/drive/My Drive/all_stocks_5yr.csv\")\n",
        "print(df.head(15))"
      ],
      "metadata": {
        "colab": {
          "base_uri": "https://localhost:8080/",
          "height": 201
        },
        "id": "g5_R3QnAYVlz",
        "outputId": "0e8f6a38-cee2-42a8-c9c2-ed1aec4fc763"
      },
      "execution_count": 2,
      "outputs": [
        {
          "output_type": "error",
          "ename": "NameError",
          "evalue": "ignored",
          "traceback": [
            "\u001b[0;31m---------------------------------------------------------------------------\u001b[0m",
            "\u001b[0;31mNameError\u001b[0m                                 Traceback (most recent call last)",
            "\u001b[0;32m<ipython-input-2-a29d9aec1166>\u001b[0m in \u001b[0;36m<module>\u001b[0;34m\u001b[0m\n\u001b[1;32m      1\u001b[0m \u001b[0;31m# df = pd.read_csv(\"/content/drive/My Drive/all_stocks_5yr.csv\")\u001b[0m\u001b[0;34m\u001b[0m\u001b[0;34m\u001b[0m\u001b[0;34m\u001b[0m\u001b[0m\n\u001b[0;32m----> 2\u001b[0;31m \u001b[0mdf1\u001b[0m \u001b[0;34m=\u001b[0m \u001b[0mpd\u001b[0m\u001b[0;34m.\u001b[0m\u001b[0mread_csv\u001b[0m\u001b[0;34m(\u001b[0m\u001b[0;34m\"https://github.com/aabansal/TechnicalAnalysis/blob/main/data/all_stocks_5yr.csv\"\u001b[0m\u001b[0;34m)\u001b[0m\u001b[0;34m\u001b[0m\u001b[0;34m\u001b[0m\u001b[0m\n\u001b[0m\u001b[1;32m      3\u001b[0m \u001b[0;31m# print(df.head(15))\u001b[0m\u001b[0;34m\u001b[0m\u001b[0;34m\u001b[0m\u001b[0;34m\u001b[0m\u001b[0m\n",
            "\u001b[0;31mNameError\u001b[0m: name 'pd' is not defined"
          ]
        }
      ]
    },
    {
      "cell_type": "markdown",
      "source": [
        "**Adding Tomorrow's Price: Prediction Vector**\n",
        "\n",
        "Let's now add a new column called Tommorow's Price, which will be the values that we are trying to predict. We don't know what the price will be tomorrow for dates after 2018-02-07, so we can mark the last days as \"to be deleted\" by setting them to -1"
      ],
      "metadata": {
        "id": "QeUku-JphAGP"
      }
    },
    {
      "cell_type": "code",
      "source": [
        "tomorrowsPrice = [np.NaN if df['date'][i] == '2013-02-08' else df['open'][i] for i in range(len(df['date']))]\n",
        "tomorrowsPrice.pop(0)\n",
        "tomorrowsPrice.append(np.NaN)"
      ],
      "metadata": {
        "id": "IG1VY7h7dPL2"
      },
      "execution_count": 4,
      "outputs": []
    },
    {
      "cell_type": "markdown",
      "source": [
        "**Adding RSI: Technical Analysis Feature**\n",
        "\n",
        "Now, we will add a column called RSI (Relative Strength Index). It is calculated using a 14 day exponential moving average, so the first 14 values for each Ticker will be NaN"
      ],
      "metadata": {
        "id": "gP4aMFi1xKUr"
      }
    },
    {
      "cell_type": "code",
      "source": [
        "# returns True if 14 data points are available to calculate RSI\n",
        "def inRSIBounds(date):\n",
        "  return (int(date[5:7]) >= 3 or int(date[0:4]) > 2013)\n",
        "\n",
        "# calculate RSI\n",
        "periods = 14\n",
        "close_delta = df['close'].diff()\n",
        "\n",
        "# Make two series: one for lower closes and one for higher closes\n",
        "up = close_delta.clip(lower=0)\n",
        "down = -1 * close_delta.clip(upper=0)\n",
        "\n",
        "# Use exponential moving average\n",
        "ma_up = up.ewm(com = periods - 1, adjust=True, min_periods = periods).mean()\n",
        "ma_down = down.ewm(com = periods - 1, adjust=True, min_periods = periods).mean()\n",
        "\n",
        "rsi = ma_up / ma_down\n",
        "rsi = 100 - (100/(1 + rsi))\n",
        "\n",
        "# set first 14 values of each ticker to NaN\n",
        "rsi = [np.NaN if not inRSIBounds(df['date'][i]) else rsi[i] for i in range(len(df['date']))]"
      ],
      "metadata": {
        "id": "UF7HsIVpwGBt"
      },
      "execution_count": 5,
      "outputs": []
    },
    {
      "cell_type": "code",
      "source": [
        "# Check if correct values are NaN\n",
        "print(rsi[0:15])\n",
        "print(rsi[1258:1274])"
      ],
      "metadata": {
        "colab": {
          "base_uri": "https://localhost:8080/"
        },
        "id": "rPb0PWwWzm_9",
        "outputId": "5456759b-fa5d-478e-f58c-4090b8ae0a8e"
      },
      "execution_count": 6,
      "outputs": [
        {
          "output_type": "stream",
          "name": "stdout",
          "text": [
            "[nan, nan, nan, nan, nan, nan, nan, nan, nan, nan, nan, nan, nan, nan, 41.08754444605151]\n",
            "[42.05021342774919, nan, nan, nan, nan, nan, nan, nan, nan, nan, nan, nan, nan, nan, nan, 52.14422432019843]\n"
          ]
        }
      ]
    },
    {
      "cell_type": "markdown",
      "source": [
        "**Adding Bollinger Bands: Technical Analysis Feature**\n",
        "\n",
        "Let's add another three columns for bollinger bands, a common tool used in technical analysis. For the middle band, we will use a 20 day simple moving average. We will not have data for the first 20 days of each ticker, so we can mark them using NaN"
      ],
      "metadata": {
        "id": "nvhvDgTKXIbs"
      }
    },
    {
      "cell_type": "code",
      "source": [
        "typicalPrice = df['high'] + df['low'] + df['close']\n",
        "SMA = typicalPrice.rolling(window=20).mean()\n",
        "stdDev = typicalPrice.rolling(window=20).std()\n",
        "\n",
        "# returns True if 20 data points are available to calculate a sma\n",
        "def inBBBounds(date):\n",
        "  return (int(date[5:7]) >= 3 and int(date[8:]) >= 8 or int(date[5:7]) >= 4 or int(date[0:4]) > 2013)\n",
        "\n",
        "SMA = [np.NaN if (not inBBBounds(df['date'][i])) else SMA[i] for i in range(len(df['date']))]\n",
        "BOLU = [np.NaN if not inBBBounds(df['date'][i]) else SMA[i] + 2*stdDev[i] for i in range(len(df['date']))]\n",
        "BOLD = [np.NaN if not inBBBounds(df['date'][i]) else SMA[i] - 2*stdDev[i] for i in range(len(df['date']))]"
      ],
      "metadata": {
        "id": "ROrzFqR4XM4f"
      },
      "execution_count": 7,
      "outputs": []
    },
    {
      "cell_type": "code",
      "source": [
        "# check if correct values are NaN\n",
        "print(SMA[0:20])\n",
        "print(SMA[1258:1279])\n",
        "print(BOLU[0:20])\n",
        "print(BOLU[1258:1279])\n",
        "print(BOLD[0:20])\n",
        "print(BOLD[1258:1279])"
      ],
      "metadata": {
        "colab": {
          "base_uri": "https://localhost:8080/"
        },
        "id": "LtGNXEjIfVhv",
        "outputId": "3d057a88-6816-4b32-c467-85324de07be0"
      },
      "execution_count": 8,
      "outputs": [
        {
          "output_type": "stream",
          "name": "stdout",
          "text": [
            "[nan, nan, nan, nan, nan, nan, nan, nan, nan, nan, nan, nan, nan, nan, nan, nan, nan, nan, nan, 42.0505]\n",
            "[164.372775, nan, nan, nan, nan, nan, nan, nan, nan, nan, nan, nan, nan, nan, nan, nan, nan, nan, nan, nan, 192.55854]\n",
            "[nan, nan, nan, nan, nan, nan, nan, nan, nan, nan, nan, nan, nan, nan, nan, nan, nan, nan, nan, 45.537332222428894]\n",
            "[180.9791027174841, nan, nan, nan, nan, nan, nan, nan, nan, nan, nan, nan, nan, nan, nan, nan, nan, nan, nan, nan, 207.4119456460399]\n",
            "[nan, nan, nan, nan, nan, nan, nan, nan, nan, nan, nan, nan, nan, nan, nan, nan, nan, nan, nan, 38.563667777571105]\n",
            "[147.76644728251588, nan, nan, nan, nan, nan, nan, nan, nan, nan, nan, nan, nan, nan, nan, nan, nan, nan, nan, nan, 177.7051343539601]\n"
          ]
        }
      ]
    },
    {
      "cell_type": "markdown",
      "source": [
        "**Adding Features to Dataset**\n",
        "\n",
        "Now that we have created the features, let's add them to the dataset and drop the NaN rows"
      ],
      "metadata": {
        "id": "kX22w8wm1VTG"
      }
    },
    {
      "cell_type": "code",
      "source": [
        "df['tomorrow_open'] = tomorrowsPrice\n",
        "df['RSI'] = rsi\n",
        "df['SMA'] = SMA\n",
        "df['BOLU'] = BOLU\n",
        "df['BOLD'] = BOLD\n",
        "print(list(df.columns))"
      ],
      "metadata": {
        "colab": {
          "base_uri": "https://localhost:8080/"
        },
        "id": "clJJdO2dgTHe",
        "outputId": "745a6f6c-5cfa-47dc-e6db-312fb1c40e2f"
      },
      "execution_count": 9,
      "outputs": [
        {
          "output_type": "stream",
          "name": "stdout",
          "text": [
            "['date', 'open', 'high', 'low', 'close', 'volume', 'Name', 'tomorrow_open', 'RSI', 'SMA', 'BOLU', 'BOLD']\n"
          ]
        }
      ]
    },
    {
      "cell_type": "code",
      "source": [
        "df = df.dropna()\n",
        "print(df.head(5))"
      ],
      "metadata": {
        "colab": {
          "base_uri": "https://localhost:8080/"
        },
        "id": "SIDT-1ci1kNF",
        "outputId": "7e0bb2e2-a428-41b5-cb2c-a91f7372a1cd"
      },
      "execution_count": 10,
      "outputs": [
        {
          "output_type": "stream",
          "name": "stdout",
          "text": [
            "          date   open   high    low  close    volume Name  tomorrow_open  \\\n",
            "19  2013-03-08  14.99  15.20  14.84  14.92  10593700  AAL          14.85   \n",
            "20  2013-03-11  14.85  15.15  14.71  15.13   6961800  AAL          15.14   \n",
            "21  2013-03-12  15.14  15.60  14.95  15.50   8999100  AAL          15.54   \n",
            "22  2013-03-13  15.54  16.20  15.48  15.91  11380000  AAL          15.98   \n",
            "23  2013-03-14  15.98  16.36  15.93  16.25   8383300  AAL          16.45   \n",
            "\n",
            "          RSI      SMA       BOLU       BOLD  \n",
            "19  63.044243  42.0505  45.537332  38.563668  \n",
            "20  65.638920  42.0750  45.640304  38.509696  \n",
            "21  69.678358  42.1910  46.115862  38.266138  \n",
            "22  73.408790  42.4265  47.031688  37.821312  \n",
            "23  76.041188  42.6610  47.991855  37.330145  \n"
          ]
        }
      ]
    },
    {
      "cell_type": "markdown",
      "source": [
        "# Step 2: Split data into train/validate/test and train models on data\n",
        "\n",
        "Now, we have created our features vectors and our predictions vector. The next step is to split the data into train, validate, and test. \n",
        "One way to do this is to shuffle the data randomly, then split it into 10% test, 70% train and 20% validate.\n",
        "\n",
        "\n",
        "---\n",
        "Next, we will train the following models on the data\n",
        "\n",
        "*   Ridge Regression\n",
        "*   Lasso Regression\n",
        "*   \n",
        "\n",
        "\n",
        "\n"
      ],
      "metadata": {
        "id": "PbdhAITzl7N3"
      }
    },
    {
      "cell_type": "code",
      "source": [
        "random_df = df.sample(frac=1)\n",
        "random_df = random_df.drop(labels=[\"date\", \"Name\"], axis=1)\n",
        "print(random_df.head())"
      ],
      "metadata": {
        "colab": {
          "base_uri": "https://localhost:8080/"
        },
        "id": "PqI0JHcfj-cl",
        "outputId": "6eebeb2b-c609-4981-b6c7-a45f235398e2"
      },
      "execution_count": 11,
      "outputs": [
        {
          "output_type": "stream",
          "name": "stdout",
          "text": [
            "          open    high     low   close   volume  tomorrow_open        RSI  \\\n",
            "97451   104.14  105.35  104.10  104.85  4126827         104.78  33.391763   \n",
            "311139   89.90   90.52   89.60   90.05   188190          89.45  44.787149   \n",
            "215030   41.05   41.38   40.67   40.77  1696861          41.02  24.066736   \n",
            "323798   22.74   22.86   22.68   22.79  1507151          22.76  53.788688   \n",
            "189093  118.50  119.02  117.78  117.86   785249         117.50  46.555750   \n",
            "\n",
            "               SMA        BOLU        BOLD  \n",
            "97451   327.719000  337.372578  318.065422  \n",
            "311139  270.858250  276.891482  264.825018  \n",
            "215030  134.197595  149.052179  119.343011  \n",
            "323798   68.411750   69.182480   67.641020  \n",
            "189093  358.355220  366.530869  350.179571  \n"
          ]
        }
      ]
    },
    {
      "cell_type": "code",
      "source": [
        "train, validate, test = np.split(random_df, [int(.6*len(df)), int(.8*len(df))])"
      ],
      "metadata": {
        "id": "7cfxc0FtozOC"
      },
      "execution_count": 13,
      "outputs": []
    },
    {
      "cell_type": "code",
      "source": [
        "# plt.pyplot.scatter(train['volume'], train['tomorrow_open'], label='volume')\n",
        "# plt.pyplot.scatter(train['open'], train['tomorrow_open'], label='open')\n",
        "# plt.pyplot.scatter(train['low'], train['tomorrow_open'], label='low')\n",
        "plt.pyplot.scatter(train['RSI'][0:1239], train['tomorrow_open'][0:1239], label='RSI')\n",
        "# plt.pyplot.plot(train['SMA'], train['tomorrow_open'], label='SMA')\n",
        "# plt.pyplot.plot(train['BOLU'], train['tomorrow_open'], label='BOLU')\n",
        "# plt.pyplot.plot(train['BOLD'], train['tomorrow_open'], label='BOLD')\n",
        "# plt.pyplot.plot(train['close'], train['tomorrow_open'], label='close')\n",
        "\n",
        "plt.pyplot.legend()\n",
        "plt.pyplot.show()"
      ],
      "metadata": {
        "colab": {
          "base_uri": "https://localhost:8080/",
          "height": 265
        },
        "id": "jdIkGDJpSIMJ",
        "outputId": "d510451c-f974-4b1d-c332-750b85a2721e"
      },
      "execution_count": 26,
      "outputs": [
        {
          "output_type": "display_data",
          "data": {
            "text/plain": [
              "<Figure size 432x288 with 1 Axes>"
            ],
            "image/png": "[encoded data removed]"
          },
          "metadata": {
            "needs_background": "light"
          }
        }
      ]
    },
    {
      "cell_type": "code",
      "source": [
        "closeOpenDiff = test['close'] - test['open']\n",
        "_mu, _sigma = np.mean(closeOpenDiff), np.std(closeOpenDiff)\n",
        "\n",
        "plt.pyplot.hist(closeOpenDiff, bins=[0.1*i + _mu for i in range(-20, 20)])\n",
        "plt.pyplot.show()\n",
        "\n",
        "print(f\"Mean of sample is {_mu} and standard deviation is {_sigma}\")\n",
        "print(f\"Variance of data is {_sigma ** 2}\")"
      ],
      "metadata": {
        "colab": {
          "base_uri": "https://localhost:8080/",
          "height": 300
        },
        "id": "TrCnWyT6G2Ni",
        "outputId": "798f8eaf-5a7c-4876-c4cf-a5b6226fad8f"
      },
      "execution_count": 44,
      "outputs": [
        {
          "output_type": "display_data",
          "data": {
            "text/plain": [
              "<Figure size 432x288 with 1 Axes>"
            ],
            "image/png": "[encoded data removed]"
          },
          "metadata": {
            "needs_background": "light"
          }
        },
        {
          "output_type": "stream",
          "name": "stdout",
          "text": [
            "Mean of sample is 0.020208374491750825 and standard deviation is 1.548868611476456\n",
            "Variance of data is 2.398993975617005\n"
          ]
        }
      ]
    },
    {
      "cell_type": "code",
      "source": [
        "overnightDiff = test['tomorrow_open'] - test['close']\n",
        "_mu, _sigma = np.mean(overnightDiff), np.std(overnightDiff)\n",
        "\n",
        "plt.pyplot.hist(overnightDiff, bins=[0.1*i + _mu for i in range(-20, 20)])\n",
        "plt.pyplot.show()\n",
        "\n",
        "print(f\"Mean of sample is {_mu} and standard deviation is {_sigma}\")\n",
        "print(f\"Variance of data is {_sigma ** 2}\")"
      ],
      "metadata": {
        "colab": {
          "base_uri": "https://localhost:8080/",
          "height": 300
        },
        "id": "q_362Nd6Jvb-",
        "outputId": "48c0a3fe-ff1d-4c44-8536-68e02b74d43b"
      },
      "execution_count": 49,
      "outputs": [
        {
          "output_type": "display_data",
          "data": {
            "text/plain": [
              "<Figure size 432x288 with 1 Axes>"
            ],
            "image/png": "[encoded data removed]"
          },
          "metadata": {
            "needs_background": "light"
          }
        },
        {
          "output_type": "stream",
          "name": "stdout",
          "text": [
            "Mean of sample is 0.015914954895240547 and standard deviation is 1.2473308811067891\n",
            "Variance of data is 1.555834326962639\n"
          ]
        }
      ]
    },
    {
      "cell_type": "code",
      "source": [
        "openOpenDiff = test['tomorrow_open'] - test['open']\n",
        "_mu, _sigma = np.mean(openOpenDiff), np.std(openOpenDiff)\n",
        "\n",
        "plt.pyplot.hist(openOpenDiff, bins=[0.1*i + _mu for i in range(-20, 20)])\n",
        "plt.pyplot.show()\n",
        "\n",
        "print(f\"Mean of sample is {_mu} and standard deviation is {_sigma}\")\n",
        "print(f\"Variance of data is {_sigma ** 2}\")"
      ],
      "metadata": {
        "colab": {
          "base_uri": "https://localhost:8080/",
          "height": 300
        },
        "id": "zbvKZiIoLOar",
        "outputId": "a42b1185-9123-4233-c77f-985b76533651"
      },
      "execution_count": 48,
      "outputs": [
        {
          "output_type": "display_data",
          "data": {
            "text/plain": [
              "<Figure size 432x288 with 1 Axes>"
            ],
            "image/png": "[encoded data removed]"
          },
          "metadata": {
            "needs_background": "light"
          }
        },
        {
          "output_type": "stream",
          "name": "stdout",
          "text": [
            "Mean of sample is 0.036275527047563635 and standard deviation is 1.9936295063383782\n",
            "Variance of data is 3.974558608543006\n"
          ]
        }
      ]
    },
    {
      "cell_type": "markdown",
      "source": [
        "# Step 2: Train some models on the data\n",
        "Now that we have our data cleaned up and ready to use, we can train a couple different models on the data in order to see which one performs the best at predicting tomorrow's opening price. To do this, we will train the following models"
      ],
      "metadata": {
        "id": "0yFUw4hPqGJk"
      }
    }
  ]
}