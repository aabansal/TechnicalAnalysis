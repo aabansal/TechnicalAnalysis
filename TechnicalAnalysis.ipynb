{
  "nbformat": 4,
  "nbformat_minor": 0,
  "metadata": {
    "colab": {
      "provenance": [],
      "authorship_tag": "ABX9TyN+kSYwLmlj5f+M+ggCF2qq",
      "include_colab_link": true
    },
    "kernelspec": {
      "name": "python3",
      "display_name": "Python 3"
    },
    "language_info": {
      "name": "python"
    }
  },
  "cells": [
    {
      "cell_type": "markdown",
      "metadata": {
        "id": "view-in-github",
        "colab_type": "text"
      },
      "source": [
        "<a href=\"https://colab.research.google.com/github/aabansal/TechnicalAnalysis/blob/main/TechnicalAnalysis.ipynb\" target=\"_parent\"><img src=\"https://colab.research.google.com/assets/colab-badge.svg\" alt=\"Open In Colab\"/></a>"
      ]
    },
    {
      "cell_type": "markdown",
      "source": [
        "This notebook is designed to figure out whether or not a computer can accurately predict 1-day movements in stock prices when fed technical analysis data as features."
      ],
      "metadata": {
        "id": "2TVr1SOy96ep"
      }
    },
    {
      "cell_type": "markdown",
      "source": [
        "# Step 1: Add features to Data\n",
        "Import libraries and add technical analysis features to the data"
      ],
      "metadata": {
        "id": "eExowHhq-c5_"
      }
    },
    {
      "cell_type": "code",
      "execution_count": null,
      "metadata": {
        "colab": {
          "base_uri": "https://localhost:8080/"
        },
        "id": "Ss2bBiW793eK",
        "outputId": "1c831d78-632d-4344-d455-5eb06481fe4c"
      },
      "outputs": [
        {
          "output_type": "stream",
          "name": "stdout",
          "text": [
            "Drive already mounted at /content/drive; to attempt to forcibly remount, call drive.mount(\"/content/drive\", force_remount=True).\n"
          ]
        }
      ],
      "source": [
        "import numpy as np\n",
        "import pandas as pd\n",
        "import matplotlib as plt\n",
        "\n",
        "from google.colab import drive\n",
        "drive.mount('/content/drive')"
      ]
    },
    {
      "cell_type": "code",
      "source": [
        "df = pd.read_csv(\"/content/drive/My Drive/all_stocks_5yr.csv\")\n",
        "print(df.head(15))"
      ],
      "metadata": {
        "colab": {
          "base_uri": "https://localhost:8080/"
        },
        "id": "g5_R3QnAYVlz",
        "outputId": "93d390fb-4564-4fbb-ed32-eb58d699933a"
      },
      "execution_count": null,
      "outputs": [
        {
          "output_type": "stream",
          "name": "stdout",
          "text": [
            "          date   open   high    low  close    volume Name\n",
            "0   2013-02-08  15.07  15.12  14.63  14.75   8407500  AAL\n",
            "1   2013-02-11  14.89  15.01  14.26  14.46   8882000  AAL\n",
            "2   2013-02-12  14.45  14.51  14.10  14.27   8126000  AAL\n",
            "3   2013-02-13  14.30  14.94  14.25  14.66  10259500  AAL\n",
            "4   2013-02-14  14.94  14.96  13.16  13.99  31879900  AAL\n",
            "5   2013-02-15  13.93  14.61  13.93  14.50  15628000  AAL\n",
            "6   2013-02-19  14.33  14.56  14.08  14.26  11354400  AAL\n",
            "7   2013-02-20  14.17  14.26  13.15  13.33  14725200  AAL\n",
            "8   2013-02-21  13.62  13.95  12.90  13.37  11922100  AAL\n",
            "9   2013-02-22  13.57  13.60  13.21  13.57   6071400  AAL\n",
            "10  2013-02-25  13.60  13.76  13.00  13.02   7186400  AAL\n",
            "11  2013-02-26  13.14  13.42  12.70  13.26   9419000  AAL\n",
            "12  2013-02-27  13.28  13.62  13.18  13.41   7390500  AAL\n",
            "13  2013-02-28  13.49  13.63  13.39  13.43   6143600  AAL\n",
            "14  2013-03-01  13.37  13.95  13.32  13.61   7376800  AAL\n"
          ]
        }
      ]
    },
    {
      "cell_type": "markdown",
      "source": [
        "**Adding Tomorrow's Price: Prediction Vector**\n",
        "\n",
        "Let's now add a new column called Tommorow's Price, which will be the values that we are trying to predict. We don't know what the price will be tomorrow for dates after 2018-02-07, so we can mark the last days as \"to be deleted\" by setting them to -1"
      ],
      "metadata": {
        "id": "QeUku-JphAGP"
      }
    },
    {
      "cell_type": "code",
      "source": [
        "tomorrowsPrice = [np.NaN if df['date'][i] == '2013-02-08' else df['open'][i] for i in range(len(df['date']))]\n",
        "tomorrowsPrice.pop(0)\n",
        "tomorrowsPrice.append(np.NaN)"
      ],
      "metadata": {
        "id": "IG1VY7h7dPL2"
      },
      "execution_count": null,
      "outputs": []
    },
    {
      "cell_type": "markdown",
      "source": [
        "**Adding RSI: Technical Analysis Feature**\n",
        "\n",
        "Now, we will add a column called RSI (Relative Strength Index). It is calculated using a 14 day exponential moving average, so the first 14 values for each Ticker will be NaN"
      ],
      "metadata": {
        "id": "gP4aMFi1xKUr"
      }
    },
    {
      "cell_type": "code",
      "source": [
        "# returns True if 14 data points are available to calculate RSI\n",
        "def inRSIBounds(date):\n",
        "  return (int(date[5:7]) >= 3 or int(date[0:4]) > 2013)\n",
        "\n",
        "# calculate RSI\n",
        "periods = 14\n",
        "close_delta = df['close'].diff()\n",
        "\n",
        "# Make two series: one for lower closes and one for higher closes\n",
        "up = close_delta.clip(lower=0)\n",
        "down = -1 * close_delta.clip(upper=0)\n",
        "\n",
        "# Use exponential moving average\n",
        "ma_up = up.ewm(com = periods - 1, adjust=True, min_periods = periods).mean()\n",
        "ma_down = down.ewm(com = periods - 1, adjust=True, min_periods = periods).mean()\n",
        "\n",
        "rsi = ma_up / ma_down\n",
        "rsi = 100 - (100/(1 + rsi))\n",
        "\n",
        "# set first 14 values of each ticker to NaN\n",
        "rsi = [np.NaN if not inRSIBounds(df['date'][i]) else rsi[i] for i in range(len(df['date']))]"
      ],
      "metadata": {
        "id": "UF7HsIVpwGBt"
      },
      "execution_count": null,
      "outputs": []
    },
    {
      "cell_type": "code",
      "source": [
        "# Check if correct values are NaN\n",
        "print(rsi[0:15])\n",
        "print(rsi[1258:1274])"
      ],
      "metadata": {
        "colab": {
          "base_uri": "https://localhost:8080/"
        },
        "id": "rPb0PWwWzm_9",
        "outputId": "739bce47-334f-444c-9dfd-b6eff511e227"
      },
      "execution_count": null,
      "outputs": [
        {
          "output_type": "stream",
          "name": "stdout",
          "text": [
            "[nan, nan, nan, nan, nan, nan, nan, nan, nan, nan, nan, nan, nan, nan, 41.08754444605151]\n",
            "[42.05021342774919, nan, nan, nan, nan, nan, nan, nan, nan, nan, nan, nan, nan, nan, nan, 52.14422432019843]\n"
          ]
        }
      ]
    },
    {
      "cell_type": "markdown",
      "source": [
        "**Adding Bollinger Bands: Technical Analysis Feature**\n",
        "\n",
        "Let's add another three columns for bollinger bands, a common tool used in technical analysis. For the middle band, we will use a 20 day simple moving average. We will not have data for the first 20 days of each ticker, so we can mark them using NaN"
      ],
      "metadata": {
        "id": "nvhvDgTKXIbs"
      }
    },
    {
      "cell_type": "code",
      "source": [
        "typicalPrice = df['high'] + df['low'] + df['close']\n",
        "SMA = typicalPrice.rolling(window=20).mean()\n",
        "stdDev = typicalPrice.rolling(window=20).std()\n",
        "\n",
        "# returns True if 20 data points are available to calculate a sma\n",
        "def inBBBounds(date):\n",
        "  return (int(date[5:7]) >= 3 and int(date[8:]) >= 8 or int(date[5:7]) >= 4 or int(date[0:4]) > 2013)\n",
        "\n",
        "SMA = [np.NaN if (not inBBBounds(df['date'][i])) else SMA[i] for i in range(len(df['date']))]\n",
        "BOLU = [np.NaN if not inBBBounds(df['date'][i]) else SMA[i] + 2*stdDev[i] for i in range(len(df['date']))]\n",
        "BOLD = [np.NaN if not inBBBounds(df['date'][i]) else SMA[i] - 2*stdDev[i] for i in range(len(df['date']))]"
      ],
      "metadata": {
        "id": "ROrzFqR4XM4f"
      },
      "execution_count": null,
      "outputs": []
    },
    {
      "cell_type": "code",
      "source": [
        "# check if correct values are NaN\n",
        "print(SMA[0:20])\n",
        "print(SMA[1258:1279])\n",
        "print(BOLU[0:20])\n",
        "print(BOLU[1258:1279])\n",
        "print(BOLD[0:20])\n",
        "print(BOLD[1258:1279])"
      ],
      "metadata": {
        "colab": {
          "base_uri": "https://localhost:8080/"
        },
        "id": "LtGNXEjIfVhv",
        "outputId": "d57a4c7e-ac22-415a-c0bb-92597ae8f12d"
      },
      "execution_count": null,
      "outputs": [
        {
          "output_type": "stream",
          "name": "stdout",
          "text": [
            "[nan, nan, nan, nan, nan, nan, nan, nan, nan, nan, nan, nan, nan, nan, nan, nan, nan, nan, nan, 42.0505]\n",
            "[164.372775, nan, nan, nan, nan, nan, nan, nan, nan, nan, nan, nan, nan, nan, nan, nan, nan, nan, nan, nan, 192.55854]\n",
            "[nan, nan, nan, nan, nan, nan, nan, nan, nan, nan, nan, nan, nan, nan, nan, nan, nan, nan, nan, 45.537332222428894]\n",
            "[180.9791027174841, nan, nan, nan, nan, nan, nan, nan, nan, nan, nan, nan, nan, nan, nan, nan, nan, nan, nan, nan, 207.4119456460399]\n",
            "[nan, nan, nan, nan, nan, nan, nan, nan, nan, nan, nan, nan, nan, nan, nan, nan, nan, nan, nan, 38.563667777571105]\n",
            "[147.76644728251588, nan, nan, nan, nan, nan, nan, nan, nan, nan, nan, nan, nan, nan, nan, nan, nan, nan, nan, nan, 177.7051343539601]\n"
          ]
        }
      ]
    },
    {
      "cell_type": "markdown",
      "source": [
        "**Adding Features to Dataset**\n",
        "\n",
        "Now that we have created the features, let's add them to the dataset and drop the NaN rows"
      ],
      "metadata": {
        "id": "kX22w8wm1VTG"
      }
    },
    {
      "cell_type": "code",
      "source": [
        "df['tomorrow_open'] = tomorrowsPrice\n",
        "df['RSI'] = rsi\n",
        "df['SMA'] = SMA\n",
        "df['BOLU'] = BOLU\n",
        "df['BOLD'] = BOLD\n",
        "print(list(df.columns))"
      ],
      "metadata": {
        "colab": {
          "base_uri": "https://localhost:8080/"
        },
        "id": "clJJdO2dgTHe",
        "outputId": "d170a37d-b2d9-41df-f6d8-ac79def0d287"
      },
      "execution_count": null,
      "outputs": [
        {
          "output_type": "stream",
          "name": "stdout",
          "text": [
            "['date', 'open', 'high', 'low', 'close', 'volume', 'Name', 'tomorrow_open', 'RSI', 'SMA', 'BOLU', 'BOLD']\n"
          ]
        }
      ]
    },
    {
      "cell_type": "code",
      "source": [
        "df = df.dropna()\n",
        "print(df.head(5))"
      ],
      "metadata": {
        "colab": {
          "base_uri": "https://localhost:8080/"
        },
        "id": "SIDT-1ci1kNF",
        "outputId": "1e0d466e-bd2d-4e5b-db2c-6e5737b5e48d"
      },
      "execution_count": null,
      "outputs": [
        {
          "output_type": "stream",
          "name": "stdout",
          "text": [
            "          date   open   high    low  close    volume Name  tomorrow_open  \\\n",
            "19  2013-03-08  14.99  15.20  14.84  14.92  10593700  AAL          14.85   \n",
            "20  2013-03-11  14.85  15.15  14.71  15.13   6961800  AAL          15.14   \n",
            "21  2013-03-12  15.14  15.60  14.95  15.50   8999100  AAL          15.54   \n",
            "22  2013-03-13  15.54  16.20  15.48  15.91  11380000  AAL          15.98   \n",
            "23  2013-03-14  15.98  16.36  15.93  16.25   8383300  AAL          16.45   \n",
            "\n",
            "          RSI      SMA       BOLU       BOLD  \n",
            "19  63.044243  42.0505  45.537332  38.563668  \n",
            "20  65.638920  42.0750  45.640304  38.509696  \n",
            "21  69.678358  42.1910  46.115862  38.266138  \n",
            "22  73.408790  42.4265  47.031688  37.821312  \n",
            "23  76.041188  42.6610  47.991855  37.330145  \n"
          ]
        }
      ]
    },
    {
      "cell_type": "markdown",
      "source": [
        "# Step 2: Split data into train/validate/test and train models on data\n",
        "\n",
        "Now, we have created our features vectors and our predictions vector. The next step is to split the data into train, validate, and test. \n",
        "One way to do this is to shuffle the data randomly, then split it into 10% test, 70% train and 20% validate.\n",
        "\n",
        "\n",
        "---\n",
        "Next, we will train the following models on the data\n",
        "\n",
        "*   Ridge Regression\n",
        "*   Lasso Regression\n",
        "*   \n",
        "\n",
        "\n",
        "\n"
      ],
      "metadata": {
        "id": "PbdhAITzl7N3"
      }
    },
    {
      "cell_type": "code",
      "source": [
        "random_df = df.sample(frac=1)\n",
        "random_df = random_df.drop(labels=[\"date\", \"Name\"], axis=1)\n",
        "print(random_df.head())"
      ],
      "metadata": {
        "colab": {
          "base_uri": "https://localhost:8080/"
        },
        "id": "PqI0JHcfj-cl",
        "outputId": "16b6ff22-8968-4f89-9a29-90de4bb18456"
      },
      "execution_count": null,
      "outputs": [
        {
          "output_type": "stream",
          "name": "stdout",
          "text": [
            "          open     high     low   close    volume  tomorrow_open        RSI  \\\n",
            "475773   53.65   53.725   52.90   53.29  10445444          53.41  36.763661   \n",
            "618177   35.61   36.050   35.45   36.04   1602883          36.00  77.222426   \n",
            "406588   23.51   23.610   23.42   23.59   4098263          23.71  42.117649   \n",
            "274843  165.17  166.510  165.17  165.96    229484         166.00  44.938507   \n",
            "157438   66.32   66.930   65.52   66.72  20742307          66.76  60.129060   \n",
            "\n",
            "               SMA        BOLU        BOLD  \n",
            "475773  162.050900  171.831598  152.270202  \n",
            "618177  103.184650  110.490004   95.879296  \n",
            "406588   73.510050   77.512662   69.507438  \n",
            "274843  501.697835  510.607317  492.788353  \n",
            "157438  197.727260  208.423463  187.031057  \n"
          ]
        }
      ]
    },
    {
      "cell_type": "code",
      "source": [],
      "metadata": {
        "id": "7cfxc0FtozOC"
      },
      "execution_count": null,
      "outputs": []
    },
    {
      "cell_type": "code",
      "source": [
        "# plt.pyplot.scatter(train['volume'], train['tomorrow_open'], label='volume')\n",
        "# plt.pyplot.scatter(train['open'], train['tomorrow_open'], label='open')\n",
        "# plt.pyplot.scatter(train['low'], train['tomorrow_open'], label='low')\n",
        "plt.pyplot.scatter(train['RSI'][0:1239], train['tomorrow_open'][0:1239], label='RSI')\n",
        "# plt.pyplot.plot(train['SMA'], train['tomorrow_open'], label='SMA')\n",
        "# plt.pyplot.plot(train['BOLU'], train['tomorrow_open'], label='BOLU')\n",
        "# plt.pyplot.plot(train['BOLD'], train['tomorrow_open'], label='BOLD')\n",
        "# plt.pyplot.plot(train['close'], train['tomorrow_open'], label='close')\n",
        "\n",
        "plt.pyplot.legend()\n",
        "plt.pyplot.show()"
      ],
      "metadata": {
        "colab": {
          "base_uri": "https://localhost:8080/",
          "height": 430
        },
        "id": "jdIkGDJpSIMJ",
        "outputId": "c2fb7028-e1f9-459e-aab1-22eb5ad40e9c"
      },
      "execution_count": null,
      "outputs": [
        {
          "output_type": "display_data",
          "data": {
            "text/plain": [
              "<Figure size 640x480 with 1 Axes>"
            ],
            "image/png": "[encoded data removed]"
          },
          "metadata": {}
        }
      ]
    },
    {
      "cell_type": "code",
      "source": [
        "closeOpenDiff = test['close'] - test['open']\n",
        "_mu, _sigma = np.mean(closeOpenDiff), np.std(closeOpenDiff)\n",
        "\n",
        "plt.pyplot.hist(closeOpenDiff, bins=[0.1*i + _mu for i in range(-20, 20)])\n",
        "plt.pyplot.show()\n",
        "\n",
        "print(f\"Mean of sample is {_mu} and standard deviation is {_sigma}\")\n",
        "print(f\"Variance of data is {_sigma ** 2}\")"
      ],
      "metadata": {
        "colab": {
          "base_uri": "https://localhost:8080/",
          "height": 467
        },
        "id": "TrCnWyT6G2Ni",
        "outputId": "1643bcf3-7f19-4806-871a-c74fc7935b03"
      },
      "execution_count": null,
      "outputs": [
        {
          "output_type": "display_data",
          "data": {
            "text/plain": [
              "<Figure size 640x480 with 1 Axes>"
            ],
            "image/png": "[encoded data removed]"
          },
          "metadata": {}
        },
        {
          "output_type": "stream",
          "name": "stdout",
          "text": [
            "Mean of sample is 0.028065519816197607 and standard deviation is 1.5493230896357453\n",
            "Variance of data is 2.4004020360784515\n"
          ]
        }
      ]
    },
    {
      "cell_type": "code",
      "source": [
        "overnightDiff = test['tomorrow_open'] - test['close']\n",
        "_mu, _sigma = np.mean(overnightDiff), np.std(overnightDiff)\n",
        "\n",
        "plt.pyplot.hist(overnightDiff, bins=[0.1*i + _mu for i in range(-20, 20)])\n",
        "plt.pyplot.show()\n",
        "\n",
        "print(f\"Mean of sample is {_mu} and standard deviation is {_sigma}\")\n",
        "print(f\"Variance of data is {_sigma ** 2}\")"
      ],
      "metadata": {
        "colab": {
          "base_uri": "https://localhost:8080/",
          "height": 465
        },
        "id": "q_362Nd6Jvb-",
        "outputId": "e41d4e70-4a95-47bd-cfbb-b9a9cd6682c5"
      },
      "execution_count": null,
      "outputs": [
        {
          "output_type": "display_data",
          "data": {
            "text/plain": [
              "<Figure size 640x480 with 1 Axes>"
            ],
            "image/png": "[encoded data removed]"
          },
          "metadata": {}
        },
        {
          "output_type": "stream",
          "name": "stdout",
          "text": [
            "Mean of sample is 0.021601259538852828 and standard deviation is 1.1975974706658643\n",
            "Variance of data is 1.4342397017452757\n"
          ]
        }
      ]
    },
    {
      "cell_type": "code",
      "source": [
        "openOpenDiff = test['tomorrow_open'] - test['open']\n",
        "_mu, _sigma = np.mean(openOpenDiff), np.std(openOpenDiff)\n",
        "\n",
        "plt.pyplot.hist(openOpenDiff, bins=[0.1*i + _mu for i in range(-20, 20)])\n",
        "plt.pyplot.show()\n",
        "\n",
        "print(f\"Mean of sample is {_mu} and standard deviation is {_sigma}\")\n",
        "print(f\"Variance of data is {_sigma ** 2}\")"
      ],
      "metadata": {
        "colab": {
          "base_uri": "https://localhost:8080/",
          "height": 465
        },
        "id": "zbvKZiIoLOar",
        "outputId": "ccbb1d98-57fb-4665-dc48-013b06ef9681"
      },
      "execution_count": null,
      "outputs": [
        {
          "output_type": "display_data",
          "data": {
            "text/plain": [
              "<Figure size 640x480 with 1 Axes>"
            ],
            "image/png": "[encoded data removed]"
          },
          "metadata": {}
        },
        {
          "output_type": "stream",
          "name": "stdout",
          "text": [
            "Mean of sample is 0.04966677935505043 and standard deviation is 1.9600015704387292\n",
            "Variance of data is 3.841606156122285\n"
          ]
        }
      ]
    },
    {
      "cell_type": "markdown",
      "source": [
        "# Step 2: Train some models on the data\n",
        "Now that we have our data cleaned up and ready to use, we can train a couple different models on the data in order to see which one performs the best at predicting tomorrow's opening price. To do this, we will train the following models"
      ],
      "metadata": {
        "id": "0yFUw4hPqGJk"
      }
    },
    {
      "cell_type": "code",
      "source": [
        "from sklearn.linear_model import LinearRegression\n",
        "from sklearn.preprocessing import normalize"
      ],
      "metadata": {
        "id": "-rx0_oW6QsVB"
      },
      "execution_count": null,
      "outputs": []
    },
    {
      "cell_type": "code",
      "source": [
        "train, validate, test = np.split(random_df, [int(.6*len(df)), int(.8*len(df))])"
      ],
      "metadata": {
        "id": "Gz3_n1-AYc4D"
      },
      "execution_count": null,
      "outputs": []
    },
    {
      "cell_type": "code",
      "source": [
        "print(train.info())"
      ],
      "metadata": {
        "colab": {
          "base_uri": "https://localhost:8080/"
        },
        "id": "SHE8h8gfS7cE",
        "outputId": "2b571191-3af1-4c18-fd6d-f94add2f3f08"
      },
      "execution_count": null,
      "outputs": [
        {
          "output_type": "stream",
          "name": "stdout",
          "text": [
            "<class 'pandas.core.frame.DataFrame'>\n",
            "Int64Index: 365607 entries, 475773 to 561840\n",
            "Data columns (total 10 columns):\n",
            " #   Column         Non-Null Count   Dtype  \n",
            "---  ------         --------------   -----  \n",
            " 0   open           365607 non-null  float64\n",
            " 1   high           365607 non-null  float64\n",
            " 2   low            365607 non-null  float64\n",
            " 3   close          365607 non-null  float64\n",
            " 4   volume         365607 non-null  int64  \n",
            " 5   tomorrow_open  365607 non-null  float64\n",
            " 6   RSI            365607 non-null  float64\n",
            " 7   SMA            365607 non-null  float64\n",
            " 8   BOLU           365607 non-null  float64\n",
            " 9   BOLD           365607 non-null  float64\n",
            "dtypes: float64(9), int64(1)\n",
            "memory usage: 30.7 MB\n",
            "None\n"
          ]
        }
      ]
    },
    {
      "cell_type": "code",
      "source": [
        "train_X = train.loc[:, train.columns != 'tomorrow_open'].to_numpy()\n",
        "train_y = train[['tomorrow_open']].to_numpy()\n",
        "\n",
        "test_X = test.loc[:, test.columns != 'tomorrow_open'].to_numpy()\n",
        "test_y = test[['tomorrow_open']].to_numpy()\n",
        "\n",
        "val_X = validate.loc[:, validate.columns != 'tomorrow_open'].to_numpy()\n",
        "val_y = validate[['tomorrow_open']].to_numpy()"
      ],
      "metadata": {
        "id": "3a-pB2l6Te3a"
      },
      "execution_count": null,
      "outputs": []
    },
    {
      "cell_type": "code",
      "source": [
        "# normalize\n",
        "# train_X = normalize(train_X, axis=0)\n",
        "# train_y = normalize(train_y, axis=0)\n",
        "# test_X = normalize(test_X, axis=0)\n",
        "# test_y = normalize(test_y, axis=0)\n",
        "# val_X = normalize(val_X, axis=0)\n",
        "# val_y = normalize(val_y, axis=0)"
      ],
      "metadata": {
        "id": "cArF5DoVXn8V"
      },
      "execution_count": null,
      "outputs": []
    },
    {
      "cell_type": "code",
      "source": [
        "print(train_X)"
      ],
      "metadata": {
        "colab": {
          "base_uri": "https://localhost:8080/"
        },
        "id": "gdimdUljYIiW",
        "outputId": "0d34786c-3e6c-4422-fd13-edd2e1d45bd3"
      },
      "execution_count": null,
      "outputs": [
        {
          "output_type": "stream",
          "name": "stdout",
          "text": [
            "[[ 53.65        53.725       52.9        ... 162.0509     171.83159832\n",
            "  152.27020168]\n",
            " [ 35.61        36.05        35.45       ... 103.18465    110.49000384\n",
            "   95.87929616]\n",
            " [ 23.51        23.61        23.42       ...  73.51005     77.51266236\n",
            "   69.50743764]\n",
            " ...\n",
            " [ 98.3         98.7         97.61       ... 285.98339    302.43252342\n",
            "  269.53425658]\n",
            " [ 65.42        65.57        65.05       ... 195.4325     198.5505215\n",
            "  192.3144785 ]\n",
            " [155.35       156.98       153.02       ... 493.278935   533.96305673\n",
            "  452.59481327]]\n"
          ]
        }
      ]
    },
    {
      "cell_type": "code",
      "source": [
        "model = LinearRegression()"
      ],
      "metadata": {
        "id": "wwGVOjRBQv1v"
      },
      "execution_count": null,
      "outputs": []
    },
    {
      "cell_type": "code",
      "source": [
        "model.fit(train_X, train_y)"
      ],
      "metadata": {
        "colab": {
          "base_uri": "https://localhost:8080/",
          "height": 74
        },
        "id": "2oDau3tiWD5h",
        "outputId": "9e7b1ed9-6a8e-4b44-fdb3-2d2d426c845e"
      },
      "execution_count": null,
      "outputs": [
        {
          "output_type": "execute_result",
          "data": {
            "text/plain": [
              "LinearRegression()"
            ],
            "text/html": [
              "<style>#sk-container-id-4 {color: black;background-color: white;}#sk-container-id-4 pre{padding: 0;}#sk-container-id-4 div.sk-toggleable {background-color: white;}#sk-container-id-4 label.sk-toggleable__label {cursor: pointer;display: block;width: 100%;margin-bottom: 0;padding: 0.3em;box-sizing: border-box;text-align: center;}#sk-container-id-4 label.sk-toggleable__label-arrow:before {content: \"▸\";float: left;margin-right: 0.25em;color: #696969;}#sk-container-id-4 label.sk-toggleable__label-arrow:hover:before {color: black;}#sk-container-id-4 div.sk-estimator:hover label.sk-toggleable__label-arrow:before {color: black;}#sk-container-id-4 div.sk-toggleable__content {max-height: 0;max-width: 0;overflow: hidden;text-align: left;background-color: #f0f8ff;}#sk-container-id-4 div.sk-toggleable__content pre {margin: 0.2em;color: black;border-radius: 0.25em;background-color: #f0f8ff;}#sk-container-id-4 input.sk-toggleable__control:checked~div.sk-toggleable__content {max-height: 200px;max-width: 100%;overflow: auto;}#sk-container-id-4 input.sk-toggleable__control:checked~label.sk-toggleable__label-arrow:before {content: \"▾\";}#sk-container-id-4 div.sk-estimator input.sk-toggleable__control:checked~label.sk-toggleable__label {background-color: #d4ebff;}#sk-container-id-4 div.sk-label input.sk-toggleable__control:checked~label.sk-toggleable__label {background-color: #d4ebff;}#sk-container-id-4 input.sk-hidden--visually {border: 0;clip: rect(1px 1px 1px 1px);clip: rect(1px, 1px, 1px, 1px);height: 1px;margin: -1px;overflow: hidden;padding: 0;position: absolute;width: 1px;}#sk-container-id-4 div.sk-estimator {font-family: monospace;background-color: #f0f8ff;border: 1px dotted black;border-radius: 0.25em;box-sizing: border-box;margin-bottom: 0.5em;}#sk-container-id-4 div.sk-estimator:hover {background-color: #d4ebff;}#sk-container-id-4 div.sk-parallel-item::after {content: \"\";width: 100%;border-bottom: 1px solid gray;flex-grow: 1;}#sk-container-id-4 div.sk-label:hover label.sk-toggleable__label {background-color: #d4ebff;}#sk-container-id-4 div.sk-serial::before {content: \"\";position: absolute;border-left: 1px solid gray;box-sizing: border-box;top: 0;bottom: 0;left: 50%;z-index: 0;}#sk-container-id-4 div.sk-serial {display: flex;flex-direction: column;align-items: center;background-color: white;padding-right: 0.2em;padding-left: 0.2em;position: relative;}#sk-container-id-4 div.sk-item {position: relative;z-index: 1;}#sk-container-id-4 div.sk-parallel {display: flex;align-items: stretch;justify-content: center;background-color: white;position: relative;}#sk-container-id-4 div.sk-item::before, #sk-container-id-4 div.sk-parallel-item::before {content: \"\";position: absolute;border-left: 1px solid gray;box-sizing: border-box;top: 0;bottom: 0;left: 50%;z-index: -1;}#sk-container-id-4 div.sk-parallel-item {display: flex;flex-direction: column;z-index: 1;position: relative;background-color: white;}#sk-container-id-4 div.sk-parallel-item:first-child::after {align-self: flex-end;width: 50%;}#sk-container-id-4 div.sk-parallel-item:last-child::after {align-self: flex-start;width: 50%;}#sk-container-id-4 div.sk-parallel-item:only-child::after {width: 0;}#sk-container-id-4 div.sk-dashed-wrapped {border: 1px dashed gray;margin: 0 0.4em 0.5em 0.4em;box-sizing: border-box;padding-bottom: 0.4em;background-color: white;}#sk-container-id-4 div.sk-label label {font-family: monospace;font-weight: bold;display: inline-block;line-height: 1.2em;}#sk-container-id-4 div.sk-label-container {text-align: center;}#sk-container-id-4 div.sk-container {/* jupyter's `normalize.less` sets `[hidden] { display: none; }` but bootstrap.min.css set `[hidden] { display: none !important; }` so we also need the `!important` here to be able to override the default hidden behavior on the sphinx rendered scikit-learn.org. See: https://github.com/scikit-learn/scikit-learn/issues/21755 */display: inline-block !important;position: relative;}#sk-container-id-4 div.sk-text-repr-fallback {display: none;}</style><div id=\"sk-container-id-4\" class=\"sk-top-container\"><div class=\"sk-text-repr-fallback\"><pre>LinearRegression()</pre><b>In a Jupyter environment, please rerun this cell to show the HTML representation or trust the notebook. <br />On GitHub, the HTML representation is unable to render, please try loading this page with nbviewer.org.</b></div><div class=\"sk-container\" hidden><div class=\"sk-item\"><div class=\"sk-estimator sk-toggleable\"><input class=\"sk-toggleable__control sk-hidden--visually\" id=\"sk-estimator-id-4\" type=\"checkbox\" checked><label for=\"sk-estimator-id-4\" class=\"sk-toggleable__label sk-toggleable__label-arrow\">LinearRegression</label><div class=\"sk-toggleable__content\"><pre>LinearRegression()</pre></div></div></div></div></div>"
            ]
          },
          "metadata": {},
          "execution_count": 59
        }
      ]
    },
    {
      "cell_type": "code",
      "source": [
        "from sklearn.metrics import mean_squared_error, r2_score\n",
        "predictions = model.predict(test_X)\n",
        "diff = (predictions - test_y)\n",
        "print(diff)"
      ],
      "metadata": {
        "colab": {
          "base_uri": "https://localhost:8080/"
        },
        "id": "PKALZYUzWFla",
        "outputId": "22d1c593-1eeb-45b7-aa70-6c8b813f31eb"
      },
      "execution_count": null,
      "outputs": [
        {
          "output_type": "stream",
          "name": "stdout",
          "text": [
            "[[-0.6660069 ]\n",
            " [-0.01075938]\n",
            " [-0.01874632]\n",
            " ...\n",
            " [-0.00624852]\n",
            " [-0.26766841]\n",
            " [ 0.63850733]]\n"
          ]
        }
      ]
    },
    {
      "cell_type": "code",
      "source": [
        "_mu, _sigma = np.mean(diff), np.std(diff)\n",
        "plt.pyplot.hist(diff, bins=[0.01*i + _mu for i in range(-140, 140)])\n",
        "plt.pyplot.show()\n",
        "\n",
        "print(f\"Mean of sample is {_mu} and standard deviation is {_sigma}\")\n",
        "print(f\"Variance of data is {_sigma ** 2}\")"
      ],
      "metadata": {
        "colab": {
          "base_uri": "https://localhost:8080/",
          "height": 465
        },
        "id": "kYdw8Fz_WJYc",
        "outputId": "82c4cd5d-c0e8-44fc-8686-9a3af11a179f"
      },
      "execution_count": null,
      "outputs": [
        {
          "output_type": "display_data",
          "data": {
            "text/plain": [
              "<Figure size 640x480 with 1 Axes>"
            ],
            "image/png": "[encoded data removed]"
          },
          "metadata": {}
        },
        {
          "output_type": "stream",
          "name": "stdout",
          "text": [
            "Mean of sample is 0.0009557472208696961 and standard deviation is 1.3190271731338223\n",
            "Variance of data is 1.7398326834654025\n"
          ]
        }
      ]
    },
    {
      "cell_type": "code",
      "source": [
        "# feature expansion:\n",
        "from sklearn.pipeline import make_pipeline\n",
        "from sklearn.preprocessing import PolynomialFeatures, StandardScaler"
      ],
      "metadata": {
        "id": "1P9j7DSwbSNr"
      },
      "execution_count": null,
      "outputs": []
    },
    {
      "cell_type": "code",
      "source": [
        "poly = make_pipeline(\n",
        "    PolynomialFeatures(degree=4),\n",
        "    LinearRegression(),\n",
        ").fit(train_X, train_y)"
      ],
      "metadata": {
        "id": "wHclRr4G84V6"
      },
      "execution_count": null,
      "outputs": []
    },
    {
      "cell_type": "code",
      "source": [
        "predictions = poly.predict(train_X)\n",
        "diff = (predictions - train_y)"
      ],
      "metadata": {
        "id": "pYayNDPm9Vnk"
      },
      "execution_count": null,
      "outputs": []
    },
    {
      "cell_type": "code",
      "source": [
        "_mu, _sigma = np.mean(diff), np.std(diff)\n",
        "plt.pyplot.hist(diff, bins=[0.01*i + _mu for i in range(-140, 140)])\n",
        "plt.pyplot.show()\n",
        "\n",
        "print(f\"Mean of sample is {_mu} and standard deviation is {_sigma}\")\n",
        "print(f\"Variance of data is {_sigma ** 2}\")"
      ],
      "metadata": {
        "colab": {
          "base_uri": "https://localhost:8080/",
          "height": 465
        },
        "id": "K-DbYEGR9b9E",
        "outputId": "95f257d4-f3a0-4a30-ef2b-e57e55b8e052"
      },
      "execution_count": null,
      "outputs": [
        {
          "output_type": "display_data",
          "data": {
            "text/plain": [
              "<Figure size 640x480 with 1 Axes>"
            ],
            "image/png": "[encoded data removed]"
          },
          "metadata": {}
        },
        {
          "output_type": "stream",
          "name": "stdout",
          "text": [
            "Mean of sample is 8.400087463433481e-12 and standard deviation is 142.36655780187343\n",
            "Variance of data is 20268.236780354167\n"
          ]
        }
      ]
    },
    {
      "cell_type": "code",
      "source": [],
      "metadata": {
        "id": "27ME_V8J9lQy"
      },
      "execution_count": null,
      "outputs": []
    }
  ]
}